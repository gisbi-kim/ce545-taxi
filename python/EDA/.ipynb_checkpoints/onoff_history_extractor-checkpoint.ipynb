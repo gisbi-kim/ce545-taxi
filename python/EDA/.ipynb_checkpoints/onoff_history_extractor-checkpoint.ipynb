{
 "cells": [
  {
   "cell_type": "code",
   "execution_count": null,
   "metadata": {},
   "outputs": [],
   "source": [
    "import os\n",
    "import math\n",
    "import sys\n",
    "import time\n",
    "import copy\n",
    "from tqdm import tqdm\n",
    "\n",
    "import cv2\n",
    "\n",
    "import numpy as np\n",
    "import pandas as pd \n",
    "import matplotlib.pyplot as plt\n",
    "\n",
    "import seaborn as sns\n"
   ]
  },
  {
   "cell_type": "code",
   "execution_count": null,
   "metadata": {},
   "outputs": [],
   "source": [
    "\"\"\"\n",
    "- get responsible files for our target time durations (e.g., 7am to 9am)\n",
    "\"\"\"\n",
    "DATA_COLUMNS_NAME = ['taxiID', 'lng', 'lat', 'alt', 'time', 'azim', 'vel', 'gpstype', 'occ']\n",
    "\n",
    "DATA_BASEDIR = \"/home/gskim/data/CE545 Taxi/data\"\n",
    "\n",
    "TARGET_DATE = \"2018-04-02\"\n",
    "TARGET_DURATION = [\"070000\", \"100000\"]\n",
    "\n",
    "taget_date_dir = os.path.join(DATA_BASEDIR, TARGET_DATE)\n",
    "taget_date_files = os.listdir(taget_date_dir)\n",
    "taget_date_files.sort()\n",
    "\n",
    "taget_date_files_in_duration = []\n",
    "for filename in taget_date_files:\n",
    "    if TARGET_DURATION[0] < filename[:-4] and filename[:-4] < TARGET_DURATION[1]:\n",
    "        taget_date_files_in_duration.append(filename)\n",
    "print(taget_date_files_in_duration)\n",
    "print(\"\\nThe number of files: \", len(taget_date_files_in_duration))"
   ]
  },
  {
   "cell_type": "code",
   "execution_count": null,
   "metadata": {},
   "outputs": [],
   "source": [
    "\"\"\"\n",
    "- merge all (in that time zone) files \n",
    "- make data frame per each car \n",
    "\"\"\"\n",
    "\n",
    "dfs = []\n",
    "for filename in taget_date_files_in_duration:\n",
    "    # read\n",
    "    df_path = os.path.join(taget_date_dir, filename)\n",
    "    df = pd.read_csv(df_path)\n",
    "    df.columns = DATA_COLUMNS_NAME  \n",
    "\n",
    "    # add\n",
    "    dfs.append(df)\n",
    "\n",
    "# merge and make all-in-one dataframe   \n",
    "df_all = pd.concat(dfs)   \n",
    "\n",
    "# for memory saving \n",
    "del dfs\n",
    "df_all = df_all.drop(\"gpstype\", axis=1)"
   ]
  },
  {
   "cell_type": "code",
   "execution_count": null,
   "metadata": {
    "scrolled": true
   },
   "outputs": [],
   "source": [
    "# sort by taxi ID\n",
    "# df_all = df_all.sort_values([\"taxiID\"], ascending=[True])\n",
    "# df_all = df_all.reset_index(drop=True)\n",
    "\n",
    "# grouping by taxi ID\n",
    "taxi_grouped = df_all.groupby('taxiID')\n",
    "taxi_grouped.count()"
   ]
  },
  {
   "cell_type": "code",
   "execution_count": null,
   "metadata": {},
   "outputs": [],
   "source": [
    "for key in taxi_grouped.groups:\n",
    "    print(key)"
   ]
  },
  {
   "cell_type": "code",
   "execution_count": null,
   "metadata": {
    "scrolled": true
   },
   "outputs": [],
   "source": [
    "# fig, ax = plt.subplots(figsize=(10, 10))\n",
    "# ax = sns.lineplot(x=\"time\", y=\"occ\", data=taxi)\n",
    "# plt.xlabel('passenger on and off graph ', fontsize=15)\n",
    "# plt.show()\n"
   ]
  },
  {
   "cell_type": "code",
   "execution_count": null,
   "metadata": {
    "scrolled": true
   },
   "outputs": [],
   "source": [
    "# print(np.count_nonzero(taxi_np_diff == EVENT_ON_TO_OFF), \"passengers got off the taxi ID\", taxi_id)  \n",
    "#     print(np.count_nonzero(taxi_np_diff == EVENT_OFF_TO_ON), \"passengers took the taxi ID\", taxi_id)\n",
    "\n",
    "EVENT_OFF_TO_ON = -1\n",
    "EVENT_ON_TO_OFF = 1\n",
    "\n",
    "taxi_id_dict = taxi_grouped.groups\n",
    "\n",
    "for for_idx, taxi_id in enumerate(taxi_id_dict):\n",
    "    taxi = taxi_grouped.get_group(taxi_id)\n",
    "    taxi = taxi.sort_values([\"time\"], ascending=[True])\n",
    "    taxi = taxi.reset_index(drop=True)\n",
    "\n",
    "    taxi_np = taxi.values\n",
    "    taxi_np = taxi_np[1:, :]\n",
    "    taxi_np_occ_diff = taxi_np[1:, -1] - taxi_np[:-1, -1]\n",
    "    for occ_idx, occ_flag in enumerate(taxi_np_occ_diff):\n",
    "        if(occ_flag == EVENT_OFF_TO_ON):\n",
    "#             print(\"A passenger took the taxi (\" + str(taxi_id) + \")\", \n",
    "#                   \"at time\", taxi_np[occ_idx, 4],\n",
    "#                   \"and (lng, lat) =\", taxi_np[occ_idx, 1], taxi_np[occ_idx, 2])\n",
    "#             occ_time_in = taxi_np[occ_idx, 4]\n",
    "\n",
    "        if(occ_flag == EVENT_ON_TO_OFF):\n",
    "#             print(\"A passenger got off the taxi (\" + str(taxi_id) + \")\", \n",
    "#                   \"at time\", taxi_np[occ_idx, 4],\n",
    "#                   \"and (lng, lat) =\", taxi_np[occ_idx, 1], taxi_np[occ_idx, 2])\n",
    "#             occ_time_out = taxi_np[occ_idx, 4]\n",
    "            \n",
    "#             minute_diff = float(str(occ_time_out)[-4:-2]) - float(str(occ_time_in)[-4:-2])\n",
    "#             print(minute_diff, \"minuites.\\n\")\n"
   ]
  },
  {
   "cell_type": "code",
   "execution_count": null,
   "metadata": {
    "scrolled": true
   },
   "outputs": [],
   "source": [
    "# print(np.count_nonzero(taxi_np_diff == EVENT_ON_TO_OFF), \"passengers got off the taxi ID\", taxi_id)  \n",
    "#     print(np.count_nonzero(taxi_np_diff == EVENT_OFF_TO_ON), \"passengers took the taxi ID\", taxi_id)\n",
    "\n",
    "EVENT_OFF_TO_ON = 1\n",
    "EVENT_ON_TO_OFF = -1\n",
    "\n",
    "taxi_id_dict = taxi_grouped.groups\n",
    "\n",
    "taxi_on_history_start_flag = 0\n",
    "taxi_off_history_start_flag = 0\n",
    "for for_idx, taxi_id in enumerate(tqdm(taxi_id_dict, mininterval=20)):                \n",
    "\n",
    "    if(for_idx % 10000 == 0):\n",
    "        print(taxi_on_history.shape)\n",
    "#         print(taxi_off_history.shape)\n",
    "\n",
    "    taxi = taxi_grouped.get_group(taxi_id)\n",
    "    taxi = taxi.sort_values([\"time\"], ascending=[True])\n",
    "    taxi = taxi.reset_index(drop=True)\n",
    "\n",
    "    taxi_np = taxi.values\n",
    "    taxi_np = taxi_np[1:, :]\n",
    "    taxi_np_occ_diff = taxi_np[:-1, -1] - taxi_np[1:, -1] # EVENT_OFF_TO_ON = 1, EVENT_ON_TO_OFF = -1\n",
    "    for occ_idx, occ_flag in enumerate(taxi_np_occ_diff.tolist()):\n",
    "\n",
    "        if(occ_flag == EVENT_OFF_TO_ON):\n",
    "            event = taxi_np[occ_idx, :]\n",
    "            event = np.expand_dims(event, axis=0)\n",
    "            if(taxi_on_history_start_flag == 0):\n",
    "                taxi_on_history = event\n",
    "                taxi_on_history_start_flag = 1\n",
    "            else:\n",
    "                taxi_on_history = np.concatenate((taxi_on_history, event), axis=0)\n",
    "                                \n",
    "        if(occ_flag == EVENT_ON_TO_OFF):\n",
    "            event = taxi_np[occ_idx, :]\n",
    "            event = np.expand_dims(event, axis=0)\n",
    "            if(taxi_off_history_start_flag == 0):\n",
    "                taxi_off_history = event\n",
    "                taxi_off_history_start_flag = 1\n",
    "            else:\n",
    "                taxi_off_history = np.concatenate((taxi_off_history, event), axis=0)\n",
    "                \n"
   ]
  },
  {
   "cell_type": "code",
   "execution_count": null,
   "metadata": {},
   "outputs": [],
   "source": [
    "taxi_on_history_ = taxi_on_history[:, :-1]\n",
    "taxi_off_history_ = taxi_off_history[:, :-1]\n",
    "\n",
    "print(taxi_on_history.shape)\n",
    "print(taxi_off_history.shape)\n",
    "\n",
    "np.savetxt(\"taxi_on_20180402_070000_100000.csv\", taxi_on_history_, delimiter=\",\")\n",
    "np.savetxt(\"taxi_off_20180402_070000_100000.csv\", taxi_off_history_, delimiter=\",\")\n"
   ]
  }
 ],
 "metadata": {
  "kernelspec": {
   "display_name": "Python 3",
   "language": "python",
   "name": "python3"
  },
  "language_info": {
   "codemirror_mode": {
    "name": "ipython",
    "version": 3
   },
   "file_extension": ".py",
   "mimetype": "text/x-python",
   "name": "python",
   "nbconvert_exporter": "python",
   "pygments_lexer": "ipython3",
   "version": "3.6.8"
  }
 },
 "nbformat": 4,
 "nbformat_minor": 2
}
